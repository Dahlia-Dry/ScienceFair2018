{
 "cells": [
  {
   "cell_type": "markdown",
   "metadata": {},
   "source": [
    "# Challenging Limitations: Using Deep Learning, Time Series Analysis, and Statistical Methods for Noise Reduction to Develop an Innovative Approach to Exoplanet Candidate Detection"
   ]
  },
  {
   "cell_type": "markdown",
   "metadata": {},
   "source": [
    "## I. A Comparative Visualization of the Star Fields Visible to Earth-Based and Space-Based Telescopes"
   ]
  },
  {
   "cell_type": "code",
   "execution_count": 14,
   "metadata": {
    "scrolled": false
   },
   "outputs": [
    {
     "name": "stdout",
     "output_type": "stream",
     "text": [
      "(245.8242587464484, 190.5877218985231)\n"
     ]
    },
    {
     "data": {
      "application/vnd.jupyter.widget-view+json": {
       "model_id": "d649827c2050439caf7102ec6e27ee90",
       "version_major": 2,
       "version_minor": 0
      },
      "text/html": [
       "<p>Failed to display Jupyter Widget of type <code>VBox</code>.</p>\n",
       "<p>\n",
       "  If you're reading this message in the Jupyter Notebook or JupyterLab Notebook, it may mean\n",
       "  that the widgets JavaScript is still loading. If this message persists, it\n",
       "  likely means that the widgets JavaScript library is either not installed or\n",
       "  not enabled. See the <a href=\"https://ipywidgets.readthedocs.io/en/stable/user_install.html\">Jupyter\n",
       "  Widgets Documentation</a> for setup instructions.\n",
       "</p>\n",
       "<p>\n",
       "  If you're reading this message in another frontend (for example, a static\n",
       "  rendering on GitHub or <a href=\"https://nbviewer.jupyter.org/\">NBViewer</a>),\n",
       "  it may mean that your frontend doesn't currently support widgets.\n",
       "</p>\n"
      ],
      "text/plain": [
       "VBox(children=(VBox(children=(Figure(camera_center=[0.0, 0.0, 0.0], height=500, matrix_projection=[0.0, 0.0, 0.0, 0.0, 0.0, 0.0, 0.0, 0.0, 0.0, 0.0, 0.0, 0.0, 0.0, 0.0, 0.0, 0.0], matrix_world=[0.0, 0.0, 0.0, 0.0, 0.0, 0.0, 0.0, 0.0, 0.0, 0.0, 0.0, 0.0, 0.0, 0.0, 0.0, 0.0], scatters=[Scatter(color_selected=array('white', dtype='<U5'), geo='sphere', selected=array([0., 0., 0.]), size=array(0.4), size_selected=array(0.6), x=array([  0.        , 101.83818558,  38.20222153, ...,  33.13134444,\n",
       "        85.5887693 , -37.58930529]), y=array([ 0.00000000e+00,  6.11029114e-03,  1.08112290e-02, ...,\n",
       "       -7.57210937e+01, -1.95515227e+02,  8.58437563e+01]), z=array([  0.        , 194.76221459, -28.99836596, ..., -81.40508386,\n",
       "       182.62680714, -85.33232473])), Scatter(color_selected=array('white', dtype='<U5'), geo='sphere', size=array(0.4), size_selected=array(2.6), x=array([  0.        , 101.83818558,  38.20222153, ...,   7.76314494,\n",
       "        -4.8799141 ,   5.33899082]), y=array([ 0.00000000e+00,  6.11029114e-03,  1.08112290e-02, ...,\n",
       "       -1.67380193e+01,  1.04894062e+01,  1.92602154e-01]), z=array([  0.        , 194.76221459, -28.99836596, ...,  -1.58339327,\n",
       "        -5.5248545 ,   5.68355184])), Scatter(color_selected=array('white', dtype='<U5'), geo='arrow', size_selected=array(26.), vx=array([-55.40861404]), vy=array([797.34860795]), vz=array([455.1975936]), x=array([0.]), y=array([0.]), z=array([0.]))], style={'axes': {'visible': True, 'label': {'color': 'black'}, 'ticklabel': {'color': 'black'}, 'color': 'black'}, 'box': {'visible': True}, 'background-color': 'white'}, tf=None, width=400, xlim=[-982.1590207279122, 973.072242616464], ylim=[-945.3263746426743, 980.2593191530251], zlim=[-989.9444901404794, 989.7810379738082]),)), ColorPicker(value='black'), ColorPicker(value='black'), ColorPicker(value='black'), ColorPicker(value='black'), FloatSlider(value=0.0, max=10.0)))"
      ]
     },
     "metadata": {},
     "output_type": "display_data"
    }
   ],
   "source": [
    "import pandas as pd\n",
    "import numpy as np\n",
    "\n",
    "#parse for dubious parallax data as indicated by HYG database\n",
    "df = pd.read_csv('stardata_hyg_v2.csv')\n",
    "df = df.loc[df['dist'] < 100000]    \n",
    "df = df.reset_index(drop=True)        \n",
    "\n",
    "ra = df['ra']\n",
    "dec = df['dec']\n",
    "dist = df['dist']\n",
    "\n",
    "df_b = df.loc[df['dist'] < 436.43]\n",
    "df_b = df_b.reset_index(drop=True)\n",
    "ra_b = df_b['ra']\n",
    "dec_b = df_b['dec']\n",
    "dist_b = df_b['dist']\n",
    "\n",
    "\n",
    "def convert_to_cartesian(ra,dec,dist,n =1000):\n",
    "    x = np.empty(n)\n",
    "    y = np.empty(n)\n",
    "    z = np.empty(n)\n",
    "    for i in range(0,n):\n",
    "        z[i] = dist[i] * np.sin(dec[i])\n",
    "        phi = dist[i] * np.cos(dec[i])\n",
    "        y[i] = phi * np.sin(ra[i])\n",
    "        x[i] = phi * np.cos(ra[i])\n",
    "    return x,y,z\n",
    "\n",
    "def get_stats(array):\n",
    "    return np.mean(array), np.std(array)\n",
    "\n",
    "print(get_stats(dist))\n",
    "\n",
    "def integ_cartesian(ra,dec,dist):\n",
    "    w = dist * np.sin(dec)\n",
    "    phi = dist * np.cos(dec)\n",
    "    v = phi * np.sin(ra)\n",
    "    u = phi * np.cos(ra)\n",
    "    return u,v,w\n",
    "\n",
    "x,y,z = convert_to_cartesian(ra,dec,dist)\n",
    "x_b, y_b, z_b = convert_to_cartesian(ra_b,dec_b,dist_b)\n",
    "    \n",
    "#initialize kepler vars\n",
    "kep_x = np.empty(1)\n",
    "kep_x[0] = 0\n",
    "kep_y = np.empty(1)\n",
    "kep_y[0] = 0\n",
    "kep_z = np.empty(1)\n",
    "kep_z[0] = 0\n",
    "kep_u = np.empty(1)\n",
    "\n",
    "#following params are center of kepler star field and depth of view of kepler telescope\n",
    "kep_ra = 290.6667\n",
    "kep_dec = 44.5\n",
    "kep_dist = 919.8042\n",
    "u,v,w = integ_cartesian(kep_ra, kep_dec, kep_dist)\n",
    "kep_u[0] = u\n",
    "kep_v = np.empty(1)\n",
    "kep_v[0] = v\n",
    "kep_w = np.empty(1)\n",
    "kep_w[0] = w\n",
    "\n",
    "import ipyvolume as ipv\n",
    "ipv.figure()\n",
    "selected = (x[0], y[0], z[0])\n",
    "scatter_a = ipv.scatter(x,y,z,size=0.4, size_selected = 0.6, marker=\"sphere\", selected = selected)\n",
    "scatter_b = ipv.scatter(x_b, y_b, z_b, size=0.4, marker=\"sphere\")\n",
    "kep_vector = ipv.quiver(kep_x, kep_y, kep_z, kep_u, kep_v, kep_w, size=5)\n",
    "from ipywidgets import FloatSlider, ColorPicker, VBox, jslink\n",
    "#size = FloatSlider(min=0.1, max=2, step=0.1)\n",
    "color = ColorPicker()\n",
    "color_selected = ColorPicker()\n",
    "color_b = ColorPicker()\n",
    "kep_color = ColorPicker()\n",
    "kep_size = FloatSlider(min=0, max = 10, step = 0.1)\n",
    "#jslink((scatter_a, 'size'), (size, 'value'))\n",
    "jslink((scatter_a, 'color'), (color, 'value'))\n",
    "jslink((scatter_a, 'color_selected'), (color_selected, 'value'))\n",
    "jslink((scatter_b, 'color'), (color_b, 'value'))\n",
    "jslink((kep_vector, 'color'), (kep_color, 'value'))\n",
    "jslink((kep_vector, 'size'), (kep_size, 'value'))\n",
    "VBox([ipv.gcc(), color, color_selected, color_b, kep_color, kep_size])#size"
   ]
  },
  {
   "cell_type": "markdown",
   "metadata": {
    "collapsed": true
   },
   "source": [
    "## II. A Visual Approximation of the Effect of Increased Participation on the Efficacy of the Proposed Methodology"
   ]
  },
  {
   "cell_type": "markdown",
   "metadata": {
    "collapsed": true
   },
   "source": [
    "## III. A Rough Statistical Analysis of Project Potential"
   ]
  }
 ],
 "metadata": {
  "kernelspec": {
   "display_name": "Python 3",
   "language": "python",
   "name": "python3"
  },
  "language_info": {
   "codemirror_mode": {
    "name": "ipython",
    "version": 3
   },
   "file_extension": ".py",
   "mimetype": "text/x-python",
   "name": "python",
   "nbconvert_exporter": "python",
   "pygments_lexer": "ipython3",
   "version": "3.6.4"
  }
 },
 "nbformat": 4,
 "nbformat_minor": 2
}
